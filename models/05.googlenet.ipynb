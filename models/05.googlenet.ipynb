{
 "cells": [
  {
   "cell_type": "markdown",
   "metadata": {},
   "source": [
    "<center><h1>GoogLeNet</h1></center>\n",
    "\n",
    "<center><p><a href=\"http://arxiv.org/abs/1409.4842\">Going Deeper with Convolutions</a></p></center>\n",
    "\n",
    "<img src=\"https://www.mdpi.com/ijms/ijms-22-07721/article_deploy/html/images/ijms-22-07721-g002.png\" width=\"600\"/>"
   ]
  },
  {
   "cell_type": "code",
   "execution_count": 1,
   "metadata": {},
   "outputs": [],
   "source": [
    "from typing import Optional\n",
    "\n",
    "import torch\n",
    "import torch.nn.functional as F\n",
    "from torch import nn, Tensor"
   ]
  },
  {
   "cell_type": "markdown",
   "metadata": {},
   "source": [
    "# Blocks"
   ]
  },
  {
   "cell_type": "markdown",
   "metadata": {},
   "source": [
    "## Basic Conv Layer"
   ]
  },
  {
   "cell_type": "code",
   "execution_count": 2,
   "metadata": {},
   "outputs": [],
   "source": [
    "class BasicConv2d(nn.Module):\n",
    "    def __init__(self, in_channels, out_channels, **kwargs):\n",
    "        super().__init__()\n",
    "        self.conv = nn.Conv2d(in_channels, out_channels, **kwargs)\n",
    "\n",
    "    def forward(self, x):\n",
    "        x = self.conv(x)\n",
    "        return F.relu(x, inplace=True)"
   ]
  },
  {
   "cell_type": "markdown",
   "metadata": {},
   "source": [
    "## Inception"
   ]
  },
  {
   "cell_type": "code",
   "execution_count": 3,
   "metadata": {},
   "outputs": [],
   "source": [
    "class Inception(nn.Module):\n",
    "    def __init__(self, in_channels, ch1x1, ch3x3red, ch3x3, ch5x5red, ch5x5, pool_proj):\n",
    "        super().__init__()\n",
    "\n",
    "        self.branch1 = BasicConv2d(in_channels, ch1x1, kernel_size=1)\n",
    "\n",
    "        self.branch2 = nn.Sequential(\n",
    "            BasicConv2d(in_channels, ch3x3red, kernel_size=1),\n",
    "            BasicConv2d(ch3x3red, ch3x3, kernel_size=3, padding=1),\n",
    "        )\n",
    "\n",
    "        self.branch3 = nn.Sequential(\n",
    "            BasicConv2d(in_channels, ch5x5red, kernel_size=1),\n",
    "            # In torchvision.models.googlenet,\n",
    "            # they use kernel_size=3 instead of kernel_size=5, which is a known bug.\n",
    "            # Please see https://github.com/pytorch/vision/issues/906 for details.\n",
    "            BasicConv2d(ch5x5red, ch5x5, kernel_size=5, padding=2),\n",
    "        )\n",
    "\n",
    "        self.branch4 = nn.Sequential(\n",
    "            nn.MaxPool2d(kernel_size=3, stride=1, padding=1),\n",
    "            BasicConv2d(in_channels, pool_proj, kernel_size=1),\n",
    "        )\n",
    "\n",
    "    def forward(self, x):\n",
    "        branch1 = self.branch1(x)\n",
    "        branch2 = self.branch2(x)\n",
    "        branch3 = self.branch3(x)\n",
    "        branch4 = self.branch4(x)\n",
    "\n",
    "        outputs = [branch1, branch2, branch3, branch4]\n",
    "        return torch.cat(outputs, 1)"
   ]
  },
  {
   "cell_type": "markdown",
   "metadata": {},
   "source": [
    "## Inception Auxiliary"
   ]
  },
  {
   "cell_type": "code",
   "execution_count": 4,
   "metadata": {},
   "outputs": [],
   "source": [
    "class InceptionAux(nn.Module):\n",
    "    def __init__(self, in_channels, num_classes, dropout=0.7):\n",
    "        super().__init__()\n",
    "        self.conv = BasicConv2d(in_channels, 128, kernel_size=1)\n",
    "\n",
    "        self.fc1 = nn.Linear(2048, 1024)\n",
    "        self.fc2 = nn.Linear(1024, num_classes)\n",
    "        self.dropout = nn.Dropout(p=dropout)\n",
    "\n",
    "    def forward(self, x):\n",
    "        # aux1: 512 x 14 x 14 -> 512 x 4 x 4 -> 128 x 4 x 4 -> 2048 -> 1024 -> 1000\n",
    "        # aux2: 528 x 14 x 14 -> 528 x 4 x 4 -> 128 x 4 x 4 -> 2048 -> 1024 -> 1000\n",
    "        x = F.adaptive_avg_pool2d(x, (4, 4))\n",
    "        x = self.conv(x)\n",
    "        x = torch.flatten(x, 1)\n",
    "        x = F.relu(self.fc1(x), inplace=True)\n",
    "        x = self.dropout(x)\n",
    "        x = self.fc2(x)\n",
    "        return x"
   ]
  },
  {
   "cell_type": "markdown",
   "metadata": {},
   "source": [
    "# GoogLeNet"
   ]
  },
  {
   "cell_type": "code",
   "execution_count": 5,
   "metadata": {},
   "outputs": [],
   "source": [
    "class GoogLeNet(nn.Module):\n",
    "    def __init__(self, num_classes=1000, aux_logits=True, init_weights=False, dropout=0.2, dropout_aux=0.7):\n",
    "        super().__init__()\n",
    "        self.conv1 = BasicConv2d(3, 64, kernel_size=7, stride=2, padding=3)  # 224 -> 112\n",
    "        self.maxpool1 = nn.MaxPool2d(3, stride=2, ceil_mode=True)  # 112 -> 56\n",
    "        self.conv2 = BasicConv2d(64, 64, kernel_size=1)\n",
    "        self.conv3 = BasicConv2d(64, 192, kernel_size=3, padding=1)\n",
    "        self.maxpool2 = nn.MaxPool2d(3, stride=2, ceil_mode=True)  # 56 -> 28\n",
    "\n",
    "        self.inception3a = Inception(192, 64, 96, 128, 16, 32, 32)  # 64+128+32+32=256\n",
    "        self.inception3b = Inception(256, 128, 128, 192, 32, 96, 64)  # 128+192+96+64=480\n",
    "        self.maxpool3 = nn.MaxPool2d(3, stride=2, ceil_mode=True)  # 28 -> 14\n",
    "\n",
    "        self.inception4a = Inception(480, 192, 96, 208, 16, 48, 64)  # 192+208+48+64=512\n",
    "        self.inception4b = Inception(512, 160, 112, 224, 24, 64, 64)  # 160+224+64+64=512\n",
    "        self.inception4c = Inception(512, 128, 128, 256, 24, 64, 64)  # 128+256+64+64=512\n",
    "        self.inception4d = Inception(512, 112, 144, 288, 32, 64, 64)  # 112+288+64+64=528\n",
    "        self.inception4e = Inception(528, 256, 160, 320, 32, 128, 128)  # 256+320+128+128=832\n",
    "        self.maxpool4 = nn.MaxPool2d(2, stride=2, ceil_mode=True)  # 14 -> 7\n",
    "\n",
    "        self.inception5a = Inception(832, 256, 160, 320, 32, 128, 128)  # 256+320+128+128=832\n",
    "        self.inception5b = Inception(832, 384, 192, 384, 48, 128, 128)  # 384+384+128+128=1024\n",
    "\n",
    "        if aux_logits:\n",
    "            self.aux1 = InceptionAux(512, num_classes, dropout=dropout_aux)\n",
    "            self.aux2 = InceptionAux(528, num_classes, dropout=dropout_aux)\n",
    "        else:\n",
    "            self.aux1 = None\n",
    "            self.aux2 = None\n",
    "\n",
    "        self.avgpool = nn.AdaptiveAvgPool2d((1, 1))\n",
    "        self.dropout = nn.Dropout(p=dropout)\n",
    "        self.fc = nn.Linear(1024, num_classes)\n",
    "\n",
    "        if init_weights:\n",
    "            self._initialize_weight()\n",
    "\n",
    "    def forward(self, x):\n",
    "        x = self.conv1(x)\n",
    "        x = self.maxpool1(x)\n",
    "\n",
    "        x = self.conv2(x)\n",
    "        x = self.conv3(x)\n",
    "        x = self.maxpool2(x)\n",
    "\n",
    "        x = self.inception3a(x)\n",
    "        x = self.inception3b(x)\n",
    "        x = self.maxpool3(x)\n",
    "\n",
    "        x = self.inception4a(x)\n",
    "        aux1: Optional[Tensor] = None\n",
    "        if self.training and self.aux1:\n",
    "            aux1 = self.aux1(x)\n",
    "\n",
    "        x = self.inception4b(x)\n",
    "        x = self.inception4c(x)\n",
    "        x = self.inception4d(x)\n",
    "        aux2: Optional[Tensor] = None\n",
    "        if self.training and self.aux2:\n",
    "            aux2 = self.aux2(x)\n",
    "\n",
    "        x = self.inception4e(x)\n",
    "        x = self.maxpool4(x)\n",
    "\n",
    "        x = self.inception5a(x)\n",
    "        x = self.inception5b(x)\n",
    "\n",
    "        x = self.avgpool(x)\n",
    "        x = torch.flatten(x, 1)\n",
    "        x = self.dropout(x)\n",
    "        x = self.fc(x)\n",
    "\n",
    "        return x, aux1, aux2\n",
    "\n",
    "    def _initialize_weights(self):\n",
    "        for m in self.modules():\n",
    "            if isinstance(m, nn.Conv2d):\n",
    "                nn.init.kaiming_normal_(m.weight, mode='fan_out', nonlinearity='relu')\n",
    "                if m.bias is not None:\n",
    "                    nn.init.constant_(m.bias, 0)\n",
    "            elif isinstance(m, nn.Linear):\n",
    "                nn.init.xavier_uniform_(m.weight)\n",
    "                nn.init.constant_(m.bias, 0)"
   ]
  },
  {
   "cell_type": "markdown",
   "metadata": {},
   "source": [
    "# Summary"
   ]
  },
  {
   "cell_type": "markdown",
   "metadata": {},
   "source": [
    "## Data"
   ]
  },
  {
   "cell_type": "code",
   "execution_count": 6,
   "metadata": {},
   "outputs": [],
   "source": [
    "device = 'cuda' if torch.cuda.is_available() else 'cpu'\n",
    "\n",
    "data = torch.randn((32, 3, 224, 224)).to(device)"
   ]
  },
  {
   "cell_type": "markdown",
   "metadata": {},
   "source": [
    "## GoogLeNet"
   ]
  },
  {
   "cell_type": "code",
   "execution_count": 7,
   "metadata": {},
   "outputs": [
    {
     "name": "stdout",
     "output_type": "stream",
     "text": [
      "--------------------------------------------------------------------------\n",
      "Layer (type)                            Output Shape              Param #\n",
      "==========================================================================\n",
      "Conv2d-1                          [-1, 64, 112, 112]                9,472\n",
      "MaxPool2d-2                         [-1, 64, 56, 56]                    0\n",
      "Conv2d-3                            [-1, 64, 56, 56]                4,160\n",
      "Conv2d-4                           [-1, 192, 56, 56]              110,784\n",
      "MaxPool2d-5                        [-1, 192, 28, 28]                    0\n",
      "Conv2d-6                            [-1, 64, 28, 28]               12,352\n",
      "Conv2d-7                            [-1, 96, 28, 28]               18,528\n",
      "Conv2d-8                           [-1, 128, 28, 28]              110,720\n",
      "Conv2d-9                            [-1, 16, 28, 28]                3,088\n",
      "Conv2d-10                           [-1, 32, 28, 28]               12,832\n",
      "MaxPool2d-11                       [-1, 192, 28, 28]                    0\n",
      "Conv2d-12                           [-1, 32, 28, 28]                6,176\n",
      "Conv2d-13                          [-1, 128, 28, 28]               32,896\n",
      "Conv2d-14                          [-1, 128, 28, 28]               32,896\n",
      "Conv2d-15                          [-1, 192, 28, 28]              221,376\n",
      "Conv2d-16                           [-1, 32, 28, 28]                8,224\n",
      "Conv2d-17                           [-1, 96, 28, 28]               76,896\n",
      "MaxPool2d-18                       [-1, 256, 28, 28]                    0\n",
      "Conv2d-19                           [-1, 64, 28, 28]               16,448\n",
      "MaxPool2d-20                       [-1, 480, 14, 14]                    0\n",
      "Conv2d-21                          [-1, 192, 14, 14]               92,352\n",
      "Conv2d-22                           [-1, 96, 14, 14]               46,176\n",
      "Conv2d-23                          [-1, 208, 14, 14]              179,920\n",
      "Conv2d-24                           [-1, 16, 14, 14]                7,696\n",
      "Conv2d-25                           [-1, 48, 14, 14]               19,248\n",
      "MaxPool2d-26                       [-1, 480, 14, 14]                    0\n",
      "Conv2d-27                           [-1, 64, 14, 14]               30,784\n",
      "Conv2d-28                            [-1, 128, 4, 4]               65,664\n",
      "Linear-29                                 [-1, 1024]            2,098,176\n",
      "Dropout-30                                [-1, 1024]                    0\n",
      "Linear-31                                 [-1, 1000]            1,025,000\n",
      "Conv2d-32                          [-1, 160, 14, 14]               82,080\n",
      "Conv2d-33                          [-1, 112, 14, 14]               57,456\n",
      "Conv2d-34                          [-1, 224, 14, 14]              226,016\n",
      "Conv2d-35                           [-1, 24, 14, 14]               12,312\n",
      "Conv2d-36                           [-1, 64, 14, 14]               38,464\n",
      "MaxPool2d-37                       [-1, 512, 14, 14]                    0\n",
      "Conv2d-38                           [-1, 64, 14, 14]               32,832\n",
      "Conv2d-39                          [-1, 128, 14, 14]               65,664\n",
      "Conv2d-40                          [-1, 128, 14, 14]               65,664\n",
      "Conv2d-41                          [-1, 256, 14, 14]              295,168\n",
      "Conv2d-42                           [-1, 24, 14, 14]               12,312\n",
      "Conv2d-43                           [-1, 64, 14, 14]               38,464\n",
      "MaxPool2d-44                       [-1, 512, 14, 14]                    0\n",
      "Conv2d-45                           [-1, 64, 14, 14]               32,832\n",
      "Conv2d-46                          [-1, 112, 14, 14]               57,456\n",
      "Conv2d-47                          [-1, 144, 14, 14]               73,872\n",
      "Conv2d-48                          [-1, 288, 14, 14]              373,536\n",
      "Conv2d-49                           [-1, 32, 14, 14]               16,416\n",
      "Conv2d-50                           [-1, 64, 14, 14]               51,264\n",
      "MaxPool2d-51                       [-1, 512, 14, 14]                    0\n",
      "Conv2d-52                           [-1, 64, 14, 14]               32,832\n",
      "Conv2d-53                            [-1, 128, 4, 4]               67,712\n",
      "Linear-54                                 [-1, 1024]            2,098,176\n",
      "Dropout-55                                [-1, 1024]                    0\n",
      "Linear-56                                 [-1, 1000]            1,025,000\n",
      "Conv2d-57                          [-1, 256, 14, 14]              135,424\n",
      "Conv2d-58                          [-1, 160, 14, 14]               84,640\n",
      "Conv2d-59                          [-1, 320, 14, 14]              461,120\n",
      "Conv2d-60                           [-1, 32, 14, 14]               16,928\n",
      "Conv2d-61                          [-1, 128, 14, 14]              102,528\n",
      "MaxPool2d-62                       [-1, 528, 14, 14]                    0\n",
      "Conv2d-63                          [-1, 128, 14, 14]               67,712\n",
      "MaxPool2d-64                         [-1, 832, 7, 7]                    0\n",
      "Conv2d-65                            [-1, 256, 7, 7]              213,248\n",
      "Conv2d-66                            [-1, 160, 7, 7]              133,280\n",
      "Conv2d-67                            [-1, 320, 7, 7]              461,120\n",
      "Conv2d-68                             [-1, 32, 7, 7]               26,656\n",
      "Conv2d-69                            [-1, 128, 7, 7]              102,528\n",
      "MaxPool2d-70                         [-1, 832, 7, 7]                    0\n",
      "Conv2d-71                            [-1, 128, 7, 7]              106,624\n",
      "Conv2d-72                            [-1, 384, 7, 7]              319,872\n",
      "Conv2d-73                            [-1, 192, 7, 7]              159,936\n",
      "Conv2d-74                            [-1, 384, 7, 7]              663,936\n",
      "Conv2d-75                             [-1, 48, 7, 7]               39,984\n",
      "Conv2d-76                            [-1, 128, 7, 7]              153,728\n",
      "MaxPool2d-77                         [-1, 832, 7, 7]                    0\n",
      "Conv2d-78                            [-1, 128, 7, 7]              106,624\n",
      "AdaptiveAvgPool2d-79                [-1, 1024, 1, 1]                    0\n",
      "Dropout-80                                [-1, 1024]                    0\n",
      "Linear-81                                 [-1, 1000]            1,025,000\n",
      "==========================================================================\n",
      "Total params: 13,378,280\n",
      "Trainable params: 13,378,280\n",
      "Non-trainable params: 0\n",
      "--------------------------------------------------------------------------\n",
      "Input size (MB): 0.000069\n",
      "Forward/backward pass size (MB): 35.529114\n",
      "Params size (MB): 51.034088\n",
      "Estimated Total Size (MB): 86.563271\n",
      "--------------------------------------------------------------------------\n"
     ]
    }
   ],
   "source": [
    "from torchkeras import summary\n",
    "\n",
    "net = GoogLeNet(num_classes=1000).to(device)\n",
    "\n",
    "summary(net, input_data=data)\n",
    "del net"
   ]
  }
 ],
 "metadata": {
  "kernelspec": {
   "display_name": "Python 3 (ipykernel)",
   "language": "python",
   "name": "python3"
  },
  "language_info": {
   "codemirror_mode": {
    "name": "ipython",
    "version": 3
   },
   "file_extension": ".py",
   "mimetype": "text/x-python",
   "name": "python",
   "nbconvert_exporter": "python",
   "pygments_lexer": "ipython3",
   "version": "3.9.13"
  }
 },
 "nbformat": 4,
 "nbformat_minor": 1
}
