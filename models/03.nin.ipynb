{
 "cells": [
  {
   "cell_type": "markdown",
   "metadata": {},
   "source": [
    "<center><h1>NiN</h1></center>\n",
    "\n",
    "<center><p><a href=\"http://arxiv.org/abs/1312.4400\">Network In Network</a></p></center>\n",
    "\n",
    "<img src=\"https://gojay.top/gallery/thumbnails/NIN.png\" width=\"1000\"/>"
   ]
  },
  {
   "cell_type": "code",
   "execution_count": 1,
   "metadata": {},
   "outputs": [],
   "source": [
    "import torch\n",
    "from torch import nn"
   ]
  },
  {
   "cell_type": "markdown",
   "metadata": {},
   "source": [
    "# NiN Block"
   ]
  },
  {
   "cell_type": "code",
   "execution_count": 2,
   "metadata": {},
   "outputs": [],
   "source": [
    "def nin_block(in_channels, out_channels, **kwargs):\n",
    "    return nn.Sequential(\n",
    "        nn.Conv2d(in_channels, out_channels, **kwargs),\n",
    "        nn.ReLU(),\n",
    "        nn.Conv2d(out_channels, out_channels, kernel_size=1),\n",
    "        nn.ReLU(),\n",
    "        nn.Conv2d(out_channels, out_channels, kernel_size=1),\n",
    "        nn.ReLU(),\n",
    "    )"
   ]
  },
  {
   "cell_type": "markdown",
   "metadata": {},
   "source": [
    "# NiN Network"
   ]
  },
  {
   "cell_type": "code",
   "execution_count": 3,
   "metadata": {},
   "outputs": [],
   "source": [
    "class NiN(nn.Module):\n",
    "    def __init__(self, num_classes=1000, init_weights=True, dropout=0.5):\n",
    "        super().__init__()\n",
    "        self.features = nn.Sequential(\n",
    "            nin_block(3, 96, kernel_size=11, stride=4, padding=0),  # 224 -> 54\n",
    "            nn.MaxPool2d(kernel_size=3, stride=2),  # 54 -> 26\n",
    "            nin_block(96, 256, kernel_size=5, stride=1, padding=2),\n",
    "            nn.MaxPool2d(kernel_size=3, stride=2),  # 26 -> 12\n",
    "            nin_block(256, 384, kernel_size=3, stride=1, padding=1),\n",
    "            nn.MaxPool2d(kernel_size=3, stride=2),  # 12 -> 5\n",
    "        )\n",
    "        self.classifier = nn.Sequential(\n",
    "            nn.Dropout(p=dropout),\n",
    "            nin_block(384, num_classes, kernel_size=3, stride=1, padding=1),\n",
    "            nn.AdaptiveAvgPool2d((1, 1)),\n",
    "            nn.Flatten(),\n",
    "        )\n",
    "        if init_weights:\n",
    "            self._initialize_weights()\n",
    "\n",
    "    def forward(self, x):\n",
    "        x = self.features(x)\n",
    "        x = self.classifier(x)\n",
    "        return x\n",
    "\n",
    "    def _initialize_weights(self):\n",
    "        for m in self.modules():\n",
    "            if isinstance(m, nn.Conv2d):\n",
    "                nn.init.kaiming_normal_(m.weight, mode='fan_out', nonlinearity='relu')\n",
    "                if m.bias is not None:\n",
    "                    nn.init.constant_(m.bias, 0)\n",
    "            elif isinstance(m, nn.Linear):\n",
    "                nn.init.xavier_uniform_(m.weight)\n",
    "                nn.init.constant_(m.bias, 0)"
   ]
  },
  {
   "cell_type": "markdown",
   "metadata": {},
   "source": [
    "# Summary"
   ]
  },
  {
   "cell_type": "markdown",
   "metadata": {},
   "source": [
    "## Data"
   ]
  },
  {
   "cell_type": "code",
   "execution_count": 4,
   "metadata": {},
   "outputs": [],
   "source": [
    "device = 'cuda' if torch.cuda.is_available() else 'cpu'\n",
    "\n",
    "data = torch.randn((32, 3, 224, 224)).to(device)"
   ]
  },
  {
   "cell_type": "markdown",
   "metadata": {},
   "source": [
    "## NiN"
   ]
  },
  {
   "cell_type": "code",
   "execution_count": 5,
   "metadata": {},
   "outputs": [
    {
     "name": "stdout",
     "output_type": "stream",
     "text": [
      "--------------------------------------------------------------------------\n",
      "Layer (type)                            Output Shape              Param #\n",
      "==========================================================================\n",
      "Conv2d-1                            [-1, 96, 54, 54]               34,944\n",
      "ReLU-2                              [-1, 96, 54, 54]                    0\n",
      "Conv2d-3                            [-1, 96, 54, 54]                9,312\n",
      "ReLU-4                              [-1, 96, 54, 54]                    0\n",
      "Conv2d-5                            [-1, 96, 54, 54]                9,312\n",
      "ReLU-6                              [-1, 96, 54, 54]                    0\n",
      "MaxPool2d-7                         [-1, 96, 26, 26]                    0\n",
      "Conv2d-8                           [-1, 256, 26, 26]              614,656\n",
      "ReLU-9                             [-1, 256, 26, 26]                    0\n",
      "Conv2d-10                          [-1, 256, 26, 26]               65,792\n",
      "ReLU-11                            [-1, 256, 26, 26]                    0\n",
      "Conv2d-12                          [-1, 256, 26, 26]               65,792\n",
      "ReLU-13                            [-1, 256, 26, 26]                    0\n",
      "MaxPool2d-14                       [-1, 256, 12, 12]                    0\n",
      "Conv2d-15                          [-1, 384, 12, 12]              885,120\n",
      "ReLU-16                            [-1, 384, 12, 12]                    0\n",
      "Conv2d-17                          [-1, 384, 12, 12]              147,840\n",
      "ReLU-18                            [-1, 384, 12, 12]                    0\n",
      "Conv2d-19                          [-1, 384, 12, 12]              147,840\n",
      "ReLU-20                            [-1, 384, 12, 12]                    0\n",
      "MaxPool2d-21                         [-1, 384, 5, 5]                    0\n",
      "Dropout-22                           [-1, 384, 5, 5]                    0\n",
      "Conv2d-23                           [-1, 1000, 5, 5]            3,457,000\n",
      "ReLU-24                             [-1, 1000, 5, 5]                    0\n",
      "Conv2d-25                           [-1, 1000, 5, 5]            1,001,000\n",
      "ReLU-26                             [-1, 1000, 5, 5]                    0\n",
      "Conv2d-27                           [-1, 1000, 5, 5]            1,001,000\n",
      "ReLU-28                             [-1, 1000, 5, 5]                    0\n",
      "AdaptiveAvgPool2d-29                [-1, 1000, 1, 1]                    0\n",
      "Flatten-30                                [-1, 1000]                    0\n",
      "==========================================================================\n",
      "Total params: 7,439,608\n",
      "Trainable params: 7,439,608\n",
      "Non-trainable params: 0\n",
      "--------------------------------------------------------------------------\n",
      "Input size (MB): 0.000069\n",
      "Forward/backward pass size (MB): 25.350098\n",
      "Params size (MB): 28.379852\n",
      "Estimated Total Size (MB): 53.730019\n",
      "--------------------------------------------------------------------------\n"
     ]
    }
   ],
   "source": [
    "from torchkeras import summary\n",
    "\n",
    "net = NiN(num_classes=1000).to(device)\n",
    "\n",
    "summary(net, input_data=data)\n",
    "del net"
   ]
  }
 ],
 "metadata": {
  "kernelspec": {
   "display_name": "Python 3 (ipykernel)",
   "language": "python",
   "name": "python3"
  },
  "language_info": {
   "codemirror_mode": {
    "name": "ipython",
    "version": 3
   },
   "file_extension": ".py",
   "mimetype": "text/x-python",
   "name": "python",
   "nbconvert_exporter": "python",
   "pygments_lexer": "ipython3",
   "version": "3.9.13"
  }
 },
 "nbformat": 4,
 "nbformat_minor": 1
}
