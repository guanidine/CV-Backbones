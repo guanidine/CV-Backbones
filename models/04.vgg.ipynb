{
 "cells": [
  {
   "cell_type": "markdown",
   "metadata": {},
   "source": [
    "<center><h1>VGG</h1></center>\n",
    "\n",
    "<center><p><a href=\"http://arxiv.org/abs/1409.1556\">Very Deep Convolutional Networks for Large-Scale Image Recognition</a></p></center>\n",
    "\n",
    "<img src=\"https://neurohive.io/wp-content/uploads/2018/11/vgg16-1-e1542731207177.png\" width=\"1000\"/>"
   ]
  },
  {
   "cell_type": "code",
   "execution_count": 1,
   "metadata": {},
   "outputs": [],
   "source": [
    "import torch\n",
    "from torch import nn"
   ]
  },
  {
   "cell_type": "markdown",
   "metadata": {},
   "source": [
    "# VGG Blocks"
   ]
  },
  {
   "cell_type": "code",
   "execution_count": 2,
   "metadata": {},
   "outputs": [],
   "source": [
    "def make_layers(cfg: list):\n",
    "    layers = []\n",
    "    in_channels = 3\n",
    "    for i in cfg:\n",
    "        if i == \"M\":\n",
    "            layers += [nn.MaxPool2d(kernel_size=2, stride=2)]\n",
    "        else:\n",
    "            conv2d = nn.Conv2d(in_channels, i, kernel_size=3, padding=1)\n",
    "            layers += [conv2d, nn.ReLU(inplace=True)]\n",
    "            in_channels = i\n",
    "    return nn.Sequential(*layers)\n",
    "\n",
    "\n",
    "cfgs = {\n",
    "    'vgg11': [64, 'M', 128, 'M', 256, 256, 'M', 512, 512, 'M', 512, 512, 'M'],\n",
    "    'vgg13': [64, 64, 'M', 128, 128, 'M', 256, 256, 'M', 512, 512, 'M', 512, 512, 'M'],\n",
    "    'vgg16': [64, 64, 'M', 128, 128, 'M', 256, 256, 256, 'M', 512, 512, 512, 'M', 512, 512, 512, 'M'],\n",
    "    'vgg19': [64, 64, 'M', 128, 128, 'M', 256, 256, 256, 256, 'M', 512, 512, 512, 512, 'M', 512, 512, 512, 512, 'M'],\n",
    "}"
   ]
  },
  {
   "cell_type": "markdown",
   "metadata": {},
   "source": [
    "# VGG Network"
   ]
  },
  {
   "cell_type": "code",
   "execution_count": 3,
   "metadata": {},
   "outputs": [],
   "source": [
    "class VGG(nn.Module):\n",
    "    def __init__(self, features, num_classes=1000, init_weights=True, dropout=0.5):\n",
    "        super().__init__()\n",
    "        self.features = features  # 224 -> 112 -> 56 -> 28 -> 14 -> 7\n",
    "        self.classifier = nn.Sequential(\n",
    "            nn.Flatten(),\n",
    "            nn.Linear(512 * 7 * 7, 4096),\n",
    "            nn.ReLU(inplace=True),\n",
    "            nn.Dropout(p=dropout),\n",
    "            nn.Linear(4096, 4096),\n",
    "            nn.ReLU(inplace=True),\n",
    "            nn.Dropout(p=dropout),\n",
    "            nn.Linear(4096, num_classes),\n",
    "        )\n",
    "        if init_weights:\n",
    "            self._initialize_weights()\n",
    "\n",
    "    def forward(self, x):\n",
    "        x = self.features(x)\n",
    "        x = self.classifier(x)\n",
    "        return x\n",
    "\n",
    "    def _initialize_weights(self):\n",
    "        for m in self.modules():\n",
    "            if isinstance(m, nn.Conv2d):\n",
    "                nn.init.kaiming_normal_(m.weight, mode='fan_out', nonlinearity='relu')\n",
    "                if m.bias is not None:\n",
    "                    nn.init.constant_(m.bias, 0)\n",
    "            elif isinstance(m, nn.Linear):\n",
    "                nn.init.xavier_uniform_(m.weight)\n",
    "                nn.init.constant_(m.bias, 0)"
   ]
  },
  {
   "cell_type": "markdown",
   "metadata": {},
   "source": [
    "# Summary"
   ]
  },
  {
   "cell_type": "markdown",
   "metadata": {},
   "source": [
    "## Data"
   ]
  },
  {
   "cell_type": "code",
   "execution_count": 4,
   "metadata": {},
   "outputs": [],
   "source": [
    "device = 'cuda' if torch.cuda.is_available() else 'cpu'\n",
    "\n",
    "data = torch.randn((32, 3, 224, 224)).to(device)"
   ]
  },
  {
   "cell_type": "markdown",
   "metadata": {},
   "source": [
    "## VGG11"
   ]
  },
  {
   "cell_type": "code",
   "execution_count": 5,
   "metadata": {},
   "outputs": [
    {
     "name": "stdout",
     "output_type": "stream",
     "text": [
      "--------------------------------------------------------------------------\n",
      "Layer (type)                            Output Shape              Param #\n",
      "==========================================================================\n",
      "Conv2d-1                          [-1, 64, 224, 224]                1,792\n",
      "ReLU-2                            [-1, 64, 224, 224]                    0\n",
      "MaxPool2d-3                       [-1, 64, 112, 112]                    0\n",
      "Conv2d-4                         [-1, 128, 112, 112]               73,856\n",
      "ReLU-5                           [-1, 128, 112, 112]                    0\n",
      "MaxPool2d-6                        [-1, 128, 56, 56]                    0\n",
      "Conv2d-7                           [-1, 256, 56, 56]              295,168\n",
      "ReLU-8                             [-1, 256, 56, 56]                    0\n",
      "Conv2d-9                           [-1, 256, 56, 56]              590,080\n",
      "ReLU-10                            [-1, 256, 56, 56]                    0\n",
      "MaxPool2d-11                       [-1, 256, 28, 28]                    0\n",
      "Conv2d-12                          [-1, 512, 28, 28]            1,180,160\n",
      "ReLU-13                            [-1, 512, 28, 28]                    0\n",
      "Conv2d-14                          [-1, 512, 28, 28]            2,359,808\n",
      "ReLU-15                            [-1, 512, 28, 28]                    0\n",
      "MaxPool2d-16                       [-1, 512, 14, 14]                    0\n",
      "Conv2d-17                          [-1, 512, 14, 14]            2,359,808\n",
      "ReLU-18                            [-1, 512, 14, 14]                    0\n",
      "Conv2d-19                          [-1, 512, 14, 14]            2,359,808\n",
      "ReLU-20                            [-1, 512, 14, 14]                    0\n",
      "MaxPool2d-21                         [-1, 512, 7, 7]                    0\n",
      "Flatten-22                               [-1, 25088]                    0\n",
      "Linear-23                                 [-1, 4096]          102,764,544\n",
      "ReLU-24                                   [-1, 4096]                    0\n",
      "Dropout-25                                [-1, 4096]                    0\n",
      "Linear-26                                 [-1, 4096]           16,781,312\n",
      "ReLU-27                                   [-1, 4096]                    0\n",
      "Dropout-28                                [-1, 4096]                    0\n",
      "Linear-29                                 [-1, 1000]            4,097,000\n",
      "==========================================================================\n",
      "Total params: 132,863,336\n",
      "Trainable params: 132,863,336\n",
      "Non-trainable params: 0\n",
      "--------------------------------------------------------------------------\n",
      "Input size (MB): 0.000069\n",
      "Forward/backward pass size (MB): 125.374817\n",
      "Params size (MB): 506.833405\n",
      "Estimated Total Size (MB): 632.208290\n",
      "--------------------------------------------------------------------------\n"
     ]
    }
   ],
   "source": [
    "from torchkeras import summary\n",
    "\n",
    "net = VGG(\n",
    "    features=make_layers(cfg=cfgs['vgg11']),\n",
    "    num_classes=1000,\n",
    ").to(device)\n",
    "\n",
    "summary(net, input_data=data)\n",
    "del net"
   ]
  },
  {
   "cell_type": "markdown",
   "metadata": {},
   "source": [
    "## VGG16"
   ]
  },
  {
   "cell_type": "code",
   "execution_count": 6,
   "metadata": {},
   "outputs": [
    {
     "name": "stdout",
     "output_type": "stream",
     "text": [
      "--------------------------------------------------------------------------\n",
      "Layer (type)                            Output Shape              Param #\n",
      "==========================================================================\n",
      "Conv2d-1                          [-1, 64, 224, 224]                1,792\n",
      "ReLU-2                            [-1, 64, 224, 224]                    0\n",
      "Conv2d-3                          [-1, 64, 224, 224]               36,928\n",
      "ReLU-4                            [-1, 64, 224, 224]                    0\n",
      "MaxPool2d-5                       [-1, 64, 112, 112]                    0\n",
      "Conv2d-6                         [-1, 128, 112, 112]               73,856\n",
      "ReLU-7                           [-1, 128, 112, 112]                    0\n",
      "Conv2d-8                         [-1, 128, 112, 112]              147,584\n",
      "ReLU-9                           [-1, 128, 112, 112]                    0\n",
      "MaxPool2d-10                       [-1, 128, 56, 56]                    0\n",
      "Conv2d-11                          [-1, 256, 56, 56]              295,168\n",
      "ReLU-12                            [-1, 256, 56, 56]                    0\n",
      "Conv2d-13                          [-1, 256, 56, 56]              590,080\n",
      "ReLU-14                            [-1, 256, 56, 56]                    0\n",
      "Conv2d-15                          [-1, 256, 56, 56]              590,080\n",
      "ReLU-16                            [-1, 256, 56, 56]                    0\n",
      "MaxPool2d-17                       [-1, 256, 28, 28]                    0\n",
      "Conv2d-18                          [-1, 512, 28, 28]            1,180,160\n",
      "ReLU-19                            [-1, 512, 28, 28]                    0\n",
      "Conv2d-20                          [-1, 512, 28, 28]            2,359,808\n",
      "ReLU-21                            [-1, 512, 28, 28]                    0\n",
      "Conv2d-22                          [-1, 512, 28, 28]            2,359,808\n",
      "ReLU-23                            [-1, 512, 28, 28]                    0\n",
      "MaxPool2d-24                       [-1, 512, 14, 14]                    0\n",
      "Conv2d-25                          [-1, 512, 14, 14]            2,359,808\n",
      "ReLU-26                            [-1, 512, 14, 14]                    0\n",
      "Conv2d-27                          [-1, 512, 14, 14]            2,359,808\n",
      "ReLU-28                            [-1, 512, 14, 14]                    0\n",
      "Conv2d-29                          [-1, 512, 14, 14]            2,359,808\n",
      "ReLU-30                            [-1, 512, 14, 14]                    0\n",
      "MaxPool2d-31                         [-1, 512, 7, 7]                    0\n",
      "Flatten-32                               [-1, 25088]                    0\n",
      "Linear-33                                 [-1, 4096]          102,764,544\n",
      "ReLU-34                                   [-1, 4096]                    0\n",
      "Dropout-35                                [-1, 4096]                    0\n",
      "Linear-36                                 [-1, 4096]           16,781,312\n",
      "ReLU-37                                   [-1, 4096]                    0\n",
      "Dropout-38                                [-1, 4096]                    0\n",
      "Linear-39                                 [-1, 1000]            4,097,000\n",
      "==========================================================================\n",
      "Total params: 138,357,544\n",
      "Trainable params: 138,357,544\n",
      "Non-trainable params: 0\n",
      "--------------------------------------------------------------------------\n",
      "Input size (MB): 0.000069\n",
      "Forward/backward pass size (MB): 218.781067\n",
      "Params size (MB): 527.792145\n",
      "Estimated Total Size (MB): 746.573280\n",
      "--------------------------------------------------------------------------\n"
     ]
    }
   ],
   "source": [
    "net = VGG(\n",
    "    features=make_layers(cfg=cfgs['vgg16']),\n",
    "    num_classes=1000,\n",
    ").to(device)\n",
    "\n",
    "summary(net, input_data=data)\n",
    "del net"
   ]
  }
 ],
 "metadata": {
  "kernelspec": {
   "display_name": "Python 3 (ipykernel)",
   "language": "python",
   "name": "python3"
  },
  "language_info": {
   "codemirror_mode": {
    "name": "ipython",
    "version": 3
   },
   "file_extension": ".py",
   "mimetype": "text/x-python",
   "name": "python",
   "nbconvert_exporter": "python",
   "pygments_lexer": "ipython3",
   "version": "3.9.13"
  }
 },
 "nbformat": 4,
 "nbformat_minor": 1
}
